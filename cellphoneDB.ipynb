{
 "cells": [
  {
   "cell_type": "code",
   "execution_count": null,
   "metadata": {},
   "outputs": [],
   "source": [
    "from IPython.display import display, HTML\n",
    "import os\n",
    "import scanpy as sc\n",
    "import anndata as ann\n",
    "import pandas as pd\n",
    "import ktplotspy as kpy"
   ]
  },
  {
   "cell_type": "code",
   "execution_count": null,
   "metadata": {},
   "outputs": [],
   "source": [
    "cpdb_version = 'v4.1.0'\n",
    "cpdb_target_dir = os.path.join(os.getcwd(), 'cellphonedb')\n",
    "db_utils.download_database(cpdb_target_dir, cpdb_version)"
   ]
  },
  {
   "cell_type": "code",
   "execution_count": null,
   "metadata": {},
   "outputs": [],
   "source": [
    "cpdb_file_path = 'cellphonedb/cellphonedb.zip'\n",
    "meta_file_path = '/raid1/YiDingcheng/ALL_LUAD/Myeloid_Epi_meta.csv'\n",
    "counts_file_path = '/raid1/YiDingcheng/ALL_LUAD/Myeloid_Epi.h5ad'"
   ]
  },
  {
   "cell_type": "code",
   "execution_count": null,
   "metadata": {},
   "outputs": [],
   "source": [
    "adata = sc.read_h5ad(\"/raid1/YiDingcheng/ALL_LUAD/Myeloid_Epi.h5ad\")\n",
    "adata"
   ]
  },
  {
   "cell_type": "code",
   "execution_count": null,
   "metadata": {},
   "outputs": [],
   "source": [
    "bdata = adata.raw.copy()"
   ]
  },
  {
   "cell_type": "code",
   "execution_count": null,
   "metadata": {},
   "outputs": [],
   "source": [
    "bdata = bdata.to_adata()"
   ]
  },
  {
   "cell_type": "code",
   "execution_count": null,
   "metadata": {},
   "outputs": [],
   "source": [
    "bdata.shape"
   ]
  },
  {
   "cell_type": "code",
   "execution_count": null,
   "metadata": {},
   "outputs": [],
   "source": [
    "meta = pd.read_csv(meta_file_path)\n",
    "meta.head()"
   ]
  },
  {
   "cell_type": "code",
   "execution_count": null,
   "metadata": {},
   "outputs": [],
   "source": [
    "from cellphonedb.src.core.methods import cpdb_statistical_analysis_method\n",
    "deconvoluted, means, pvalues, significant_means = cpdb_statistical_analysis_method.call(\n",
    "    cpdb_file_path = cpdb_file_path,\n",
    "    meta_file_path = meta_file_path,\n",
    "    counts_file_path = counts_file_path,\n",
    "    counts_data = \"hgnc_symbol\",\n",
    "    threshold=0.1,\n",
    "    iterations=1000,\n",
    "    threads=16,\n",
    "    debug_seed=42,\n",
    "    subsampling=False,\n",
    "    output_path='/raid1/YiDingcheng/ALL_LUAD',\n",
    "    output_suffix = \"Myeloid_Epi\",\n",
    "    )"
   ]
  },
  {
   "cell_type": "code",
   "execution_count": null,
   "metadata": {},
   "outputs": [],
   "source": [
    "kpy.plot_cpdb_heatmap(adata = adata, celltype_key = \"cell.type\",pvals = pvalues, figsize = (8, 8), title = \"Sum of significant interactions\")"
   ]
  },
  {
   "cell_type": "code",
   "execution_count": null,
   "metadata": {},
   "outputs": [],
   "source": [
    "means = pd.read_table(\"/raid1/YiDingcheng/ALL_LUAD/statistical_analysis_means_Myeloid_Epi.txt\")\n",
    "pvalues = pd.read_table(\"/raid1/YiDingcheng/ALL_LUAD/statistical_analysis_pvalues_Myeloid_Epi.txt\")"
   ]
  },
  {
   "cell_type": "code",
   "execution_count": null,
   "metadata": {},
   "outputs": [],
   "source": [
    "p = kpy.plot_cpdb(\n",
    "    adata = adata,\n",
    "    cell_type1 = \"Highly Resistant\",\n",
    "    cell_type2 = \"Macro\",\n",
    "    means = means,\n",
    "    pvals = pvalues,\n",
    "    celltype_key = \"cell.type\",\n",
    "    genes = [\"CXCL14\", \"CX3CL1\"],\n",
    "    highlight_size = 1,\n",
    "    figsize = (12, 8)\n",
    ")\n",
    "p.save(\"/raid1/YiDingcheng/ALL_LUAD/cellphonedb_Epi.pdf\", format = \"pdf\", dpi = 120)"
   ]
  },
  {
   "cell_type": "code",
   "execution_count": null,
   "metadata": {},
   "outputs": [],
   "source": [
    "kpy.plot_cpdb_chord(\n",
    "    adata=adata,\n",
    "    cell_type1=\"Resistant\",\n",
    "    cell_type2=\".\",\n",
    "    means=means,\n",
    "    pvals=pvalues,\n",
    "    deconvoluted=deconvoluted,\n",
    "    celltype_key=\"cell.type\",\n",
    "    genes=[\"CXCL14\"],\n",
    "    figsize=(24, 24),\n",
    ")"
   ]
  },
  {
   "cell_type": "code",
   "execution_count": null,
   "metadata": {},
   "outputs": [],
   "source": [
    "from cellphonedb.utils import search_utils\n",
    "search_res = search_utils.search_analysis_results(\n",
    "    query_cell_types_1 = [\"CD4T_Treg_CCR8\"],\n",
    "    query_cell_types_2 = [\"CD8T_Tem_GZMK\", \"CD8T_Trm_ZNF683\", \"CD8T_Tex_CXCL13\"],\n",
    "    significant_means = significant_means,\n",
    "    deconvoluted = deconvoluted,\n",
    "    long_format = True\n",
    ")\n",
    "search_res.head(50)"
   ]
  }
 ],
 "metadata": {
  "kernelspec": {
   "display_name": "Python 3.10.12 ('cpdb')",
   "language": "python",
   "name": "python3"
  },
  "language_info": {
   "codemirror_mode": {
    "name": "ipython",
    "version": 3
   },
   "file_extension": ".py",
   "mimetype": "text/x-python",
   "name": "python",
   "nbconvert_exporter": "python",
   "pygments_lexer": "ipython3",
   "version": "3.9.17"
  },
  "orig_nbformat": 4,
  "vscode": {
   "interpreter": {
    "hash": "2cbed6d576de1e460e1588956e912070f5a059d3b2bfbd751b67d7ee7c205d0c"
   }
  }
 },
 "nbformat": 4,
 "nbformat_minor": 2
}
